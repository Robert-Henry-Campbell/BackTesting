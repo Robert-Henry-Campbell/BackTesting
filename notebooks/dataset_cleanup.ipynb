{
 "cells": [
  {
   "cell_type": "code",
   "execution_count": 5,
   "id": "6fd53300",
   "metadata": {},
   "outputs": [
    {
     "name": "stdout",
     "output_type": "stream",
     "text": [
      "Collecting xlrd\n",
      "  Downloading xlrd-2.0.1-py2.py3-none-any.whl.metadata (3.4 kB)\n",
      "Downloading xlrd-2.0.1-py2.py3-none-any.whl (96 kB)\n",
      "Installing collected packages: xlrd\n",
      "Successfully installed xlrd-2.0.1\n",
      "Note: you may need to restart the kernel to use updated packages.\n"
     ]
    },
    {
     "name": "stderr",
     "output_type": "stream",
     "text": [
      "\n",
      "[notice] A new release of pip is available: 24.3.1 -> 25.1.1\n",
      "[notice] To update, run: python.exe -m pip install --upgrade pip\n"
     ]
    }
   ],
   "source": [
    "%pip install xlrd"
   ]
  },
  {
   "cell_type": "code",
   "execution_count": 11,
   "id": "e05a4f10",
   "metadata": {},
   "outputs": [
    {
     "data": {
      "text/plain": [
       "Index(['Unnamed: 0', 'Unnamed: 1', 'Unnamed: 2', 'Unnamed: 3', 'Unnamed: 4',\n",
       "       'Unnamed: 5', 'Unnamed: 6', 'Unnamed: 7', 'Unnamed: 8', 'Unnamed: 9',\n",
       "       'Unnamed: 10', 'Unnamed: 11', 'Unnamed: 12', 'Unnamed: 13',\n",
       "       'Unnamed: 14', 'Unnamed: 15', 'Unnamed: 16', 'Unnamed: 17',\n",
       "       'Unnamed: 18', 'Unnamed: 19', 'Unnamed: 20', 'Unnamed: 21'],\n",
       "      dtype='object')"
      ]
     },
     "execution_count": 11,
     "metadata": {},
     "output_type": "execute_result"
    }
   ],
   "source": [
    "import pandas as pd\n",
    "import xlrd\n",
    "df = pd.read_excel('shiller_longrun_market_data.xls', sheet_name='Data')\n",
    "df.columns"
   ]
  },
  {
   "cell_type": "code",
   "execution_count": 18,
   "id": "a4f56adb",
   "metadata": {},
   "outputs": [
    {
     "data": {
      "text/plain": [
       "Index(['Unnamed: 0', 'Unnamed: 1', 'Unnamed: 2', 'Unnamed: 3', 'Unnamed: 4',\n",
       "       'Unnamed: 5', 'Unnamed: 6', 'Unnamed: 7', 'Unnamed: 8', 'Unnamed: 9',\n",
       "       'Unnamed: 10', 'Unnamed: 11', 'Unnamed: 12', 'Unnamed: 13',\n",
       "       'Unnamed: 14', 'Unnamed: 15', 'Unnamed: 16', 'Unnamed: 17',\n",
       "       'Unnamed: 18', 'Unnamed: 19', 'Unnamed: 20', 'Unnamed: 21'],\n",
       "      dtype='object')"
      ]
     },
     "execution_count": 18,
     "metadata": {},
     "output_type": "execute_result"
    }
   ],
   "source": [
    "#find the real price column\n",
    "df.iloc[:,[5]].head(9)\n",
    "df.columns"
   ]
  },
  {
   "cell_type": "code",
   "execution_count": null,
   "id": "79d1fb2f",
   "metadata": {},
   "outputs": [],
   "source": [
    "#you want these columns\n",
    "\n",
    "column_names_to_be = [\n",
    "    \"date\",\n",
    "    \"sp_price\",\n",
    "    \"sp_dividend\",\n",
    "    \"sp_real_price\",\n",
    "    \"sp_real_dividend\",\n",
    "]\n",
    "\n",
    "df = df[['Unnamed: 0','Unnamed: 1','Unnamed: 2', \"Unnamed: 7\", \"Unnamed: 8\"]]\n",
    "df.columns = column_names_to_be\n"
   ]
  },
  {
   "cell_type": "code",
   "execution_count": 28,
   "id": "89c0b5f6",
   "metadata": {},
   "outputs": [
    {
     "data": {
      "text/html": [
       "<div>\n",
       "<style scoped>\n",
       "    .dataframe tbody tr th:only-of-type {\n",
       "        vertical-align: middle;\n",
       "    }\n",
       "\n",
       "    .dataframe tbody tr th {\n",
       "        vertical-align: top;\n",
       "    }\n",
       "\n",
       "    .dataframe thead th {\n",
       "        text-align: right;\n",
       "    }\n",
       "</style>\n",
       "<table border=\"1\" class=\"dataframe\">\n",
       "  <thead>\n",
       "    <tr style=\"text-align: right;\">\n",
       "      <th></th>\n",
       "      <th>date</th>\n",
       "      <th>sp_price</th>\n",
       "      <th>sp_dividend</th>\n",
       "      <th>sp_real_price</th>\n",
       "      <th>sp_real_dividend</th>\n",
       "    </tr>\n",
       "  </thead>\n",
       "  <tbody>\n",
       "    <tr>\n",
       "      <th>7</th>\n",
       "      <td>1871.01</td>\n",
       "      <td>4.44</td>\n",
       "      <td>0.26</td>\n",
       "      <td>114.541036</td>\n",
       "      <td>6.707358</td>\n",
       "    </tr>\n",
       "    <tr>\n",
       "      <th>8</th>\n",
       "      <td>1871.02</td>\n",
       "      <td>4.5</td>\n",
       "      <td>0.26</td>\n",
       "      <td>112.649234</td>\n",
       "      <td>6.508622</td>\n",
       "    </tr>\n",
       "    <tr>\n",
       "      <th>9</th>\n",
       "      <td>1871.03</td>\n",
       "      <td>4.61</td>\n",
       "      <td>0.26</td>\n",
       "      <td>113.717822</td>\n",
       "      <td>6.413587</td>\n",
       "    </tr>\n",
       "    <tr>\n",
       "      <th>10</th>\n",
       "      <td>1871.04</td>\n",
       "      <td>4.74</td>\n",
       "      <td>0.26</td>\n",
       "      <td>121.353738</td>\n",
       "      <td>6.656534</td>\n",
       "    </tr>\n",
       "    <tr>\n",
       "      <th>11</th>\n",
       "      <td>1871.05</td>\n",
       "      <td>4.86</td>\n",
       "      <td>0.26</td>\n",
       "      <td>127.319383</td>\n",
       "      <td>6.811325</td>\n",
       "    </tr>\n",
       "    <tr>\n",
       "      <th>12</th>\n",
       "      <td>1871.06</td>\n",
       "      <td>4.82</td>\n",
       "      <td>0.26</td>\n",
       "      <td>128.260428</td>\n",
       "      <td>6.918612</td>\n",
       "    </tr>\n",
       "    <tr>\n",
       "      <th>13</th>\n",
       "      <td>1871.07</td>\n",
       "      <td>4.73</td>\n",
       "      <td>0.26</td>\n",
       "      <td>125.865523</td>\n",
       "      <td>6.918612</td>\n",
       "    </tr>\n",
       "    <tr>\n",
       "      <th>14</th>\n",
       "      <td>1871.08</td>\n",
       "      <td>4.79</td>\n",
       "      <td>0.26</td>\n",
       "      <td>129.501069</td>\n",
       "      <td>7.029286</td>\n",
       "    </tr>\n",
       "    <tr>\n",
       "      <th>15</th>\n",
       "      <td>1871.09</td>\n",
       "      <td>4.84</td>\n",
       "      <td>0.26</td>\n",
       "      <td>127.786229</td>\n",
       "      <td>6.864549</td>\n",
       "    </tr>\n",
       "    <tr>\n",
       "      <th>16</th>\n",
       "      <td>1871.1</td>\n",
       "      <td>4.59</td>\n",
       "      <td>0.26</td>\n",
       "      <td>119.321708</td>\n",
       "      <td>6.758964</td>\n",
       "    </tr>\n",
       "    <tr>\n",
       "      <th>17</th>\n",
       "      <td>1871.11</td>\n",
       "      <td>4.64</td>\n",
       "      <td>0.26</td>\n",
       "      <td>120.621509</td>\n",
       "      <td>6.758964</td>\n",
       "    </tr>\n",
       "    <tr>\n",
       "      <th>18</th>\n",
       "      <td>1871.12</td>\n",
       "      <td>4.74</td>\n",
       "      <td>0.26</td>\n",
       "      <td>120.441117</td>\n",
       "      <td>6.606475</td>\n",
       "    </tr>\n",
       "  </tbody>\n",
       "</table>\n",
       "</div>"
      ],
      "text/plain": [
       "       date sp_price sp_dividend sp_real_price sp_real_dividend\n",
       "7   1871.01     4.44        0.26    114.541036         6.707358\n",
       "8   1871.02      4.5        0.26    112.649234         6.508622\n",
       "9   1871.03     4.61        0.26    113.717822         6.413587\n",
       "10  1871.04     4.74        0.26    121.353738         6.656534\n",
       "11  1871.05     4.86        0.26    127.319383         6.811325\n",
       "12  1871.06     4.82        0.26    128.260428         6.918612\n",
       "13  1871.07     4.73        0.26    125.865523         6.918612\n",
       "14  1871.08     4.79        0.26    129.501069         7.029286\n",
       "15  1871.09     4.84        0.26    127.786229         6.864549\n",
       "16   1871.1     4.59        0.26    119.321708         6.758964\n",
       "17  1871.11     4.64        0.26    120.621509         6.758964\n",
       "18  1871.12     4.74        0.26    120.441117         6.606475"
      ]
     },
     "execution_count": 28,
     "metadata": {},
     "output_type": "execute_result"
    }
   ],
   "source": [
    "df = df.copy().iloc[7:,:]\n",
    "df.head(12)"
   ]
  },
  {
   "cell_type": "code",
   "execution_count": 29,
   "id": "a972a4ea",
   "metadata": {},
   "outputs": [],
   "source": [
    "df.to_csv('data_for_futures.csv')"
   ]
  }
 ],
 "metadata": {
  "kernelspec": {
   "display_name": "Python 3",
   "language": "python",
   "name": "python3"
  },
  "language_info": {
   "codemirror_mode": {
    "name": "ipython",
    "version": 3
   },
   "file_extension": ".py",
   "mimetype": "text/x-python",
   "name": "python",
   "nbconvert_exporter": "python",
   "pygments_lexer": "ipython3",
   "version": "3.13.2"
  }
 },
 "nbformat": 4,
 "nbformat_minor": 5
}
